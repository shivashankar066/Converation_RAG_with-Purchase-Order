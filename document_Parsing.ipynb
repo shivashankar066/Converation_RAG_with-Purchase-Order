{
 "cells": [
  {
   "cell_type": "code",
   "execution_count": null,
   "id": "4ddd4fedecc8f912",
   "metadata": {},
   "outputs": [],
   "source": [
    "# uv command\n",
    "# uv init\n",
    "# uv venv\n",
    "# uv activate\n",
    "# uv add pandas\n"
   ]
  },
  {
   "metadata": {},
   "cell_type": "markdown",
   "source": "### Data Ingestion",
   "id": "61728f13e66c2911"
  },
  {
   "cell_type": "code",
   "id": "68ebe5f15dc7686d",
   "metadata": {
    "ExecuteTime": {
     "end_time": "2025-09-08T16:13:50.551130Z",
     "start_time": "2025-09-08T16:13:50.546379Z"
    }
   },
   "source": [
    "from langchain_core.documents import Document\n",
    "from langchain.text_splitter import CharacterTextSplitter,RecursiveCharacterTextSplitter,TokenTextSplitter\n",
    "print(\"Document setup Done\")"
   ],
   "outputs": [
    {
     "name": "stdout",
     "output_type": "stream",
     "text": [
      "Document setup Done\n"
     ]
    }
   ],
   "execution_count": 3
  },
  {
   "metadata": {},
   "cell_type": "markdown",
   "source": "#### Document Structure in Langchain",
   "id": "31de69aec9d83507"
  },
  {
   "metadata": {
    "ExecuteTime": {
     "end_time": "2025-09-08T16:23:32.645161Z",
     "start_time": "2025-09-08T16:23:32.640525Z"
    }
   },
   "cell_type": "code",
   "source": [
    "doc=Document(\n",
    "    page_content=\"This is a sample document. It contains some text data for testing ,purposes\",\n",
    "    metadata={\n",
    "        \"source\":\"sample.txt\",\n",
    "        \"author\":\"Shivashankar\",\n",
    "        \"Page\":1,\n",
    "        \"keywords\":[\"sample\",\"text\",\"data\"]\n",
    "    }\n",
    ")\n",
    "\n",
    "print(doc.page_content)\n",
    "print(doc.metadata)"
   ],
   "id": "310d517c9d9e5f7c",
   "outputs": [
    {
     "name": "stdout",
     "output_type": "stream",
     "text": [
      "This is a sample document. It contains some text data for testing ,purposes\n",
      "{'source': 'sample.txt', 'author': 'Shivashankar', 'Page': 1, 'keywords': ['sample', 'text', 'data']}\n"
     ]
    }
   ],
   "execution_count": 10
  },
  {
   "metadata": {},
   "cell_type": "code",
   "outputs": [],
   "execution_count": null,
   "source": "",
   "id": "53e124ac4a98e0ed"
  },
  {
   "metadata": {},
   "cell_type": "code",
   "outputs": [],
   "execution_count": null,
   "source": "",
   "id": "13f20490aaa7a95d"
  },
  {
   "metadata": {},
   "cell_type": "code",
   "outputs": [],
   "execution_count": null,
   "source": "",
   "id": "fe12f8067d4af441"
  },
  {
   "metadata": {},
   "cell_type": "code",
   "outputs": [],
   "execution_count": null,
   "source": "",
   "id": "5e2f85cfb470208d"
  }
 ],
 "metadata": {
  "kernelspec": {
   "display_name": "Python 3 (ipykernel)",
   "language": "python",
   "name": "python3"
  },
  "language_info": {
   "codemirror_mode": {
    "name": "ipython",
    "version": 3
   },
   "file_extension": ".py",
   "mimetype": "text/x-python",
   "name": "python",
   "nbconvert_exporter": "python",
   "pygments_lexer": "ipython3",
   "version": "3.13.7"
  }
 },
 "nbformat": 4,
 "nbformat_minor": 5
}
